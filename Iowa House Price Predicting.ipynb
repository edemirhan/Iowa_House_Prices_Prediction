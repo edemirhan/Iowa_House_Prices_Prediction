{
  "cells": [
    {
      "metadata": {
        "_uuid": "8f2839f25d086af736a60e9eeb907d3b93b6e0e5",
        "_cell_guid": "b1076dfc-b9ad-4769-8c92-a6c4dae69d19",
        "trusted": true
      },
      "cell_type": "code",
      "source": "# This Python 3 environment comes with many helpful analytics libraries installed\n# It is defined by the kaggle/python docker image: https://github.com/kaggle/docker-python\n# For example, here's several helpful packages to load in \n\nimport numpy as np # linear algebra\nimport pandas as pd # data processing, CSV file I/O (e.g. pd.read_csv)\n\n# Input data files are available in the \"../input/\" directory.\n# For example, running this (by clicking run or pressing Shift+Enter) will list the files in the input directory\n\nimport os\nprint(os.listdir(\"../input\"))\n\n# Any results you write to the current directory are saved as output.",
      "execution_count": null,
      "outputs": []
    },
    {
      "metadata": {
        "_cell_guid": "79c7e3d0-c299-4dcb-8224-4455121ee9b0",
        "_uuid": "d629ff2d2480ee46fbb7e2d37f6b5fab8052498a",
        "trusted": true
      },
      "cell_type": "code",
      "source": "homes= pd.read_csv('../input/train.csv')",
      "execution_count": null,
      "outputs": []
    },
    {
      "metadata": {
        "trusted": true,
        "_uuid": "877ed8b5bb0d31024e77ad6c42c99647128237b1"
      },
      "cell_type": "code",
      "source": "homes.tail()",
      "execution_count": null,
      "outputs": []
    },
    {
      "metadata": {
        "trusted": true,
        "_uuid": "0a99d033d30def17ac835e8c66fc4ea8da28ae81"
      },
      "cell_type": "code",
      "source": "homes_test= pd.read_csv('../input/test.csv')",
      "execution_count": null,
      "outputs": []
    },
    {
      "metadata": {
        "trusted": true,
        "_uuid": "8bab4bd8f4089f4eefba4d4a943450d04f11d730"
      },
      "cell_type": "code",
      "source": "homes_test.tail()",
      "execution_count": null,
      "outputs": []
    },
    {
      "metadata": {
        "trusted": true,
        "_uuid": "9848d6e83101af9ea59392135654aa380d522f4b"
      },
      "cell_type": "code",
      "source": "# Combine train and test for cleanup\nhomes_all = homes.drop(columns=['SalePrice']).append(homes_test)",
      "execution_count": null,
      "outputs": []
    },
    {
      "metadata": {
        "trusted": true,
        "_uuid": "091b1d6070027d4bbb9fc50539e5cfe93ac68e43"
      },
      "cell_type": "code",
      "source": "homes_all.shape",
      "execution_count": null,
      "outputs": []
    },
    {
      "metadata": {
        "trusted": true,
        "_uuid": "7ed68ce48d33664ccb06fbc4f39653bb2d30b382"
      },
      "cell_type": "code",
      "source": "from sklearn.base import TransformerMixin\n\nclass DataFrameImputer(TransformerMixin):\n\n    def __init__(self, categoricals):\n        \"\"\"Impute missing values.\n\n        Columns of dtype object are imputed with the most frequent value \n        in column.\n\n        Columns of other types are imputed with mean of column.\n\n        \"\"\"\n        self.categories = categoricals\n        \n    def fit(self, X, y=None):\n\n        self.fill = pd.Series([X[c].value_counts().index[0]\n            if c in self.categories else X[c].mean() for c in X],\n            index=X.columns)\n\n        return self\n\n    def transform(self, X, y=None):\n        return X.fillna(self.fill)",
      "execution_count": null,
      "outputs": []
    },
    {
      "metadata": {
        "trusted": true,
        "_uuid": "2de04c415c2f1d6f20735472b779e888c6c7ff7b"
      },
      "cell_type": "code",
      "source": "continuous_features = [\n    'LotArea', \n    'BsmtFinSF2', 'BsmtUnfSF',\n       'TotalBsmtSF', '2ndFlrSF', 'LowQualFinSF',\n       'BsmtFullBath', 'BsmtHalfBath', 'FullBath', 'HalfBath', 'BedroomAbvGr',\n       'KitchenAbvGr', 'TotRmsAbvGrd', 'Fireplaces', 'GarageCars',\n       'GarageArea', 'WoodDeckSF', 'OpenPorchSF', 'EnclosedPorch', '3SsnPorch',\n       'ScreenPorch', 'PoolArea', 'MiscVal', 'MoSold'\n\n]\n\n",
      "execution_count": null,
      "outputs": []
    },
    {
      "metadata": {
        "trusted": true,
        "_uuid": "b034e910bb37ad6676562e8f69cc23ad7ccb724a"
      },
      "cell_type": "code",
      "source": "categorical_features = [\n    'MSZoning', 'Street', 'Alley', 'LotShape', 'LandContour', 'Utilities',\n       'LotConfig', 'LandSlope', 'Neighborhood', 'Condition1', 'Condition2',\n       'BldgType', 'HouseStyle', 'RoofStyle', 'RoofMatl', 'Exterior1st',\n       'Exterior2nd', 'MasVnrType', 'ExterQual', 'ExterCond', 'Foundation',\n       'BsmtQual', 'BsmtCond', 'BsmtExposure', 'BsmtFinType1', 'BsmtFinType2',\n       'Heating', 'HeatingQC', 'CentralAir', 'Electrical', 'KitchenQual',\n       'Functional', 'FireplaceQu', 'GarageType', 'GarageFinish', 'GarageQual',\n       'GarageCond', 'PavedDrive', 'PoolQC', 'Fence', 'MiscFeature',\n       'SaleType', 'SaleCondition',\n    \n    'OverallQual', 'OverallCond'\n]\n\n",
      "execution_count": null,
      "outputs": []
    },
    {
      "metadata": {
        "trusted": true,
        "_uuid": "598c64eaf781b277bf70b3aa07739b2d0e836a43"
      },
      "cell_type": "code",
      "source": "ignore_features = [\n'BsmtFinSF1'\n, '1stFlrSF'\n, 'YrSold'\n, 'YearBuilt'\n, 'YearRemodAdd'\n, 'GarageYrBlt'\n, 'GrLivArea'\n]\n",
      "execution_count": null,
      "outputs": []
    },
    {
      "metadata": {
        "trusted": true,
        "_uuid": "49ec4a194ab58ed04458fa4f939152420376c91c"
      },
      "cell_type": "code",
      "source": "homes_all=homes_all.drop(ignore_features, axis=1)",
      "execution_count": null,
      "outputs": []
    },
    {
      "metadata": {
        "trusted": true,
        "_uuid": "239ac70f33bc926aaae31ad15780defb94186490"
      },
      "cell_type": "code",
      "source": "# Impute\nhomes_all = DataFrameImputer(categorical_features).fit_transform(homes_all)\n\n# One hot encoding\nhomes_all = pd.get_dummies(homes_all,columns=categorical_features,drop_first=True)",
      "execution_count": null,
      "outputs": []
    },
    {
      "metadata": {
        "trusted": true,
        "_uuid": "60cbca7fd24e106fcf1e3f4cc73070366936aadf"
      },
      "cell_type": "code",
      "source": "homes_all.shape",
      "execution_count": null,
      "outputs": []
    },
    {
      "metadata": {
        "trusted": true,
        "_uuid": "8b4bbdc16c15526761932495d74bdf97f5940831"
      },
      "cell_type": "code",
      "source": "# Split it back into home and home_test\nhomes2 = homes_all[homes_all.Id <= 1460]\nhomes2['SalePrice'] = homes['SalePrice']",
      "execution_count": null,
      "outputs": []
    },
    {
      "metadata": {
        "trusted": true,
        "_uuid": "97e688f84daaf6d3ec5330a9f62dcedf8011cb3e"
      },
      "cell_type": "code",
      "source": "homes2[['Id', 'SalePrice']].tail()",
      "execution_count": null,
      "outputs": []
    },
    {
      "metadata": {
        "trusted": true,
        "_uuid": "b4dd997e67a5f9db48c7bcc70e45252e76ae5c33"
      },
      "cell_type": "code",
      "source": "homes[['Id', 'SalePrice']].tail()",
      "execution_count": null,
      "outputs": []
    },
    {
      "metadata": {
        "trusted": true,
        "_uuid": "66bb18311b987fc9ba53087dc0690cbd149b3928"
      },
      "cell_type": "code",
      "source": "homes = homes2\nhomes_test = homes_all[homes_all.Id > 1460]",
      "execution_count": null,
      "outputs": []
    },
    {
      "metadata": {
        "trusted": true,
        "_uuid": "b2a2551190783f61cbcbbde6e2dda3c5a44f6fef"
      },
      "cell_type": "code",
      "source": "import matplotlib.pyplot as plt\nimport seaborn as sns\n%matplotlib inline",
      "execution_count": null,
      "outputs": []
    },
    {
      "metadata": {
        "trusted": true,
        "_uuid": "7c86d3a5bd7f2505475fe19bd4f05f8af66bdecb"
      },
      "cell_type": "code",
      "source": "sns.distplot(homes.SalePrice)",
      "execution_count": null,
      "outputs": []
    },
    {
      "metadata": {
        "trusted": true,
        "_uuid": "0597667f4d7d7f0c2594627c14fd81b41aebf0eb"
      },
      "cell_type": "code",
      "source": "plt.hist(homes['SalePrice'])",
      "execution_count": null,
      "outputs": []
    },
    {
      "metadata": {
        "trusted": true,
        "_uuid": "2d8839d270c65ed2d6573a60b2cd7179929bfc6b"
      },
      "cell_type": "code",
      "source": "sns.distplot(homes.SalePrice)",
      "execution_count": null,
      "outputs": []
    },
    {
      "metadata": {
        "trusted": true,
        "_uuid": "4499a88253640b3128d1fa9323fdc05536d7d55a"
      },
      "cell_type": "code",
      "source": "#pd.isna(homes).sum()",
      "execution_count": null,
      "outputs": []
    },
    {
      "metadata": {
        "trusted": true,
        "_uuid": "d295ea049b0b59925c175462ecf5bb170a7d5c99"
      },
      "cell_type": "code",
      "source": "pd.isna(homes.SalePrice).sum()",
      "execution_count": null,
      "outputs": []
    },
    {
      "metadata": {
        "trusted": true,
        "_uuid": "331450e67420366b122b866f6e4194d49ec044ae"
      },
      "cell_type": "code",
      "source": "from sklearn.linear_model import LinearRegression\nfrom sklearn.cross_validation import train_test_split\nfrom sklearn import metrics\nfrom sklearn.model_selection import cross_val_score\nfrom sklearn.cross_validation import KFold",
      "execution_count": null,
      "outputs": []
    },
    {
      "metadata": {
        "trusted": true,
        "_uuid": "2b245506ed2ae594d6f3d9e0f0554a47572db267"
      },
      "cell_type": "code",
      "source": "Upper_whisker=((homes.SalePrice.quantile(0.75)-homes.SalePrice.quantile(0.25))*1.5)+homes.SalePrice.quantile(0.75)\nhomes2=homes[homes.SalePrice<Upper_whisker]",
      "execution_count": null,
      "outputs": []
    },
    {
      "metadata": {
        "trusted": true,
        "_uuid": "d0e36f1126fde3dfe7402da7f9bf7f87e6b43bb3"
      },
      "cell_type": "code",
      "source": "X = homes2[continuous_features]\ny = homes2['SalePrice']",
      "execution_count": null,
      "outputs": []
    },
    {
      "metadata": {
        "trusted": true,
        "_uuid": "1e35ab47704ed222bcb6e8a47b28c16b59e67ccf"
      },
      "cell_type": "code",
      "source": "# instantiate and fit\nlinreg = LinearRegression()\nlinreg.fit(X, y)",
      "execution_count": null,
      "outputs": []
    },
    {
      "metadata": {
        "trusted": true,
        "_uuid": "9e3b067ee54bf11eb9071722de0aa3635f3023b0"
      },
      "cell_type": "code",
      "source": "y_pred = linreg.predict(X)\nmetrics.r2_score(y, y_pred)",
      "execution_count": null,
      "outputs": []
    },
    {
      "metadata": {
        "trusted": true,
        "_uuid": "4d31c716cd98519ef0dfb8769f5acb6b5d2b1322"
      },
      "cell_type": "code",
      "source": "np.sqrt(metrics.mean_squared_error(y, y_pred))",
      "execution_count": null,
      "outputs": []
    },
    {
      "metadata": {
        "trusted": true,
        "_uuid": "4df5dc7a90aeb4dff214d94e2a5344cdbfa792ab"
      },
      "cell_type": "code",
      "source": "y.mean()",
      "execution_count": null,
      "outputs": []
    },
    {
      "metadata": {
        "trusted": true,
        "_uuid": "9da158aa6484b05e37714a272d8b01500319f568"
      },
      "cell_type": "code",
      "source": "X.corr()",
      "execution_count": null,
      "outputs": []
    },
    {
      "metadata": {
        "trusted": true,
        "_uuid": "4b429983bd61ae00bfbd56555415b69b9342bdc8"
      },
      "cell_type": "code",
      "source": "np.any(np.isnan(X))",
      "execution_count": null,
      "outputs": []
    },
    {
      "metadata": {
        "trusted": true,
        "_uuid": "8105ce3ae848b60fe22405d236a64dc0ad464861"
      },
      "cell_type": "code",
      "source": "np.all(np.isfinite(X))",
      "execution_count": null,
      "outputs": []
    },
    {
      "metadata": {
        "trusted": true,
        "_uuid": "fe1d614c76bd0c2128d98744ac6db11a7b7472a7"
      },
      "cell_type": "code",
      "source": "np.any(np.isnan(y))",
      "execution_count": null,
      "outputs": []
    },
    {
      "metadata": {
        "trusted": true,
        "_uuid": "9f9c8657de0808865d8deb441d90dd65b1322690"
      },
      "cell_type": "code",
      "source": "scores = cross_val_score(linreg, X, y, cv=10, scoring='neg_mean_squared_error')\nprint (scores)",
      "execution_count": null,
      "outputs": []
    },
    {
      "metadata": {
        "trusted": true,
        "_uuid": "a528cf912336728316c1a28c0b86d702db8212ea"
      },
      "cell_type": "code",
      "source": "# fix the sign of MSE scores\nmse_scores = -scores\nprint (mse_scores)",
      "execution_count": null,
      "outputs": []
    },
    {
      "metadata": {
        "trusted": true,
        "_uuid": "0f77b982fbf3186a5669c0813f358a5572e8506a"
      },
      "cell_type": "code",
      "source": "# convert from MSE to RMSE\nrmse_scores = np.sqrt(mse_scores)\nprint (rmse_scores)",
      "execution_count": null,
      "outputs": []
    },
    {
      "metadata": {
        "trusted": true,
        "_uuid": "0c6afa9c42042b6553b47348cfc31a536d8d2f6b"
      },
      "cell_type": "code",
      "source": "# calculate the average RMSE\nprint (rmse_scores.mean())",
      "execution_count": null,
      "outputs": []
    },
    {
      "metadata": {
        "trusted": true,
        "_uuid": "a0a8b7c8b5b84092df5502c6296dc6f8ba1c4eb6"
      },
      "cell_type": "code",
      "source": "sns.boxplot(y)",
      "execution_count": null,
      "outputs": []
    },
    {
      "metadata": {
        "trusted": true,
        "_uuid": "cf589e423cec7f768c4def43b90253f3711c7ce8"
      },
      "cell_type": "code",
      "source": "y.describe()",
      "execution_count": null,
      "outputs": []
    },
    {
      "metadata": {
        "trusted": true,
        "_uuid": "d25627d8bcd6c72c62c6703bdd51e4fb0f702c64"
      },
      "cell_type": "code",
      "source": "# homes3=pd.get_dummies(homes2,columns=categorical_features,drop_first=True)",
      "execution_count": null,
      "outputs": []
    },
    {
      "metadata": {
        "trusted": true,
        "_uuid": "e07a10b62bd43ba942fbbd8a933490205870bea0"
      },
      "cell_type": "code",
      "source": "# homes4=homes2.drop(['Id','SalePrice','LotFrontage','MasVnrArea','GarageYrBlt'],axis=1)\nhomes4=homes2.drop(['Id','SalePrice'],axis=1)",
      "execution_count": null,
      "outputs": []
    },
    {
      "metadata": {
        "trusted": true,
        "_uuid": "02d4d42dd8411f58845cbfcbbcf8652d23eb19ec"
      },
      "cell_type": "code",
      "source": "X = homes4\ny = homes2['SalePrice']",
      "execution_count": null,
      "outputs": []
    },
    {
      "metadata": {
        "trusted": true,
        "_uuid": "5f612bcfcda9dd44e91950bc3c227aedc690738d"
      },
      "cell_type": "code",
      "source": "# instantiate and fit\nlinreg = LinearRegression()\nlinreg.fit(X, y)",
      "execution_count": null,
      "outputs": []
    },
    {
      "metadata": {
        "trusted": true,
        "_uuid": "78a41e27a7c69bd49e2a2826159991349beb62ca"
      },
      "cell_type": "code",
      "source": "y_pred = linreg.predict(X)\nmetrics.r2_score(y, y_pred)",
      "execution_count": null,
      "outputs": []
    },
    {
      "metadata": {
        "trusted": true,
        "_uuid": "c9733dfff56a0e33af57021e5a7b3c3104a78646"
      },
      "cell_type": "code",
      "source": "np.sqrt(metrics.mean_squared_error(y, y_pred))",
      "execution_count": null,
      "outputs": []
    },
    {
      "metadata": {
        "trusted": true,
        "_uuid": "bc332de59da6c95ae6877b08441c891e763bd8ae"
      },
      "cell_type": "code",
      "source": "def build_model(df, feature_cols, target_col, folds,log=False):\n    X = df[feature_cols]\n    if log:\n        y = np.log(df[target_col])\n    else:\n        y = df[target_col]\n\n                      \n    \n    # instantiate and fit\n    linreg = LinearRegression()\n    \n    scores = cross_val_score(linreg, X, y, cv=folds, scoring='neg_mean_squared_error')\n    print (\"Scores : %s\"%scores)\n\n    # fix the sign of MSE scores\n    mse_scores = -scores\n    print (\"MSEs : %s\"%mse_scores)\n\n           \n    # convert from MSE to RMSE\n    rmse_scores = np.sqrt(mse_scores)\n    print (\"RMSEs : %s\"%rmse_scores)\n\n    # calculate the average RMSE\n    print (\"RMSE = %f\"%rmse_scores.mean())\n    linreg.fit(X,y)\n    return linreg\n",
      "execution_count": null,
      "outputs": []
    },
    {
      "metadata": {
        "trusted": true,
        "_uuid": "a23471432b89a52f2db4d61e18c84e94427bcdad"
      },
      "cell_type": "code",
      "source": "model=build_model(homes2,homes4.columns,['SalePrice'],5, log=True)",
      "execution_count": null,
      "outputs": []
    },
    {
      "metadata": {
        "trusted": true,
        "_uuid": "c6ea37d776c6cc1ac1f16a7281d6f34a25e2f575"
      },
      "cell_type": "code",
      "source": "# homes_test= pd.read_csv('../input/test.csv')",
      "execution_count": null,
      "outputs": []
    },
    {
      "metadata": {
        "trusted": true,
        "_uuid": "54019582e370069b67233c989d2b50628df32c14"
      },
      "cell_type": "code",
      "source": "\n",
      "execution_count": null,
      "outputs": []
    },
    {
      "metadata": {
        "trusted": true,
        "_uuid": "1d77c469bf4bd1b93714f77697739fe433da1837"
      },
      "cell_type": "code",
      "source": "# homes_test = DataFrameImputer(categorical_features).fit_transform(homes_test)\n#imputer = DataFrameImputer(categorical_features)\n#imputer = imputer.fit(X)\n#homes_test = imputer.transform(homes_test)\n#homes_test.columns[homes_test.isna().any()].tolist()",
      "execution_count": null,
      "outputs": []
    },
    {
      "metadata": {
        "trusted": true,
        "_uuid": "4fcd44e714760e2586585db92cb8899ebfadbf1b"
      },
      "cell_type": "code",
      "source": "homes_test.head()",
      "execution_count": null,
      "outputs": []
    },
    {
      "metadata": {
        "trusted": true,
        "_uuid": "142e0bf6850f81b1b3e4236feec0b4d0fbe0cd1c"
      },
      "cell_type": "code",
      "source": "#X_test=pd.get_dummies(homes_test,columns=categorical_features,drop_first=True).drop(['Id','LotFrontage','MasVnrArea','GarageYrBlt'],axis=1)\n\n# X_test = homes_test.drop(['Id','LotFrontage','MasVnrArea','GarageYrBlt'], axis = 1)\nX_test = homes_test.drop(['Id'], axis = 1)",
      "execution_count": null,
      "outputs": []
    },
    {
      "metadata": {
        "trusted": true,
        "_uuid": "7994ba8ef0c4910c76b4844976ab4a780cb30299"
      },
      "cell_type": "code",
      "source": "missing_columns = set(X.columns)-set(X_test.columns)\nmissing_columns",
      "execution_count": null,
      "outputs": []
    },
    {
      "metadata": {
        "trusted": true,
        "_uuid": "092a406eacc117a20ee88caeca176b33d48b510a"
      },
      "cell_type": "code",
      "source": "print(\", \".join(X.columns))",
      "execution_count": null,
      "outputs": []
    },
    {
      "metadata": {
        "trusted": true,
        "_uuid": "fd8376dcac85e96a7d76a167c96c516226d3e09f"
      },
      "cell_type": "code",
      "source": "print(\", \".join(X_test.columns))",
      "execution_count": null,
      "outputs": []
    },
    {
      "metadata": {
        "trusted": true,
        "_uuid": "33841779ee1e6191da35afe5fefed3fb30550490"
      },
      "cell_type": "code",
      "source": "print(X.shape)\nprint(X_test.shape)",
      "execution_count": null,
      "outputs": []
    },
    {
      "metadata": {
        "trusted": true,
        "_uuid": "28309f00b5ce55582ceaae52bc95f22964c06df1"
      },
      "cell_type": "code",
      "source": "y_test_pred=model.predict(X_test)",
      "execution_count": null,
      "outputs": []
    },
    {
      "metadata": {
        "trusted": true,
        "_uuid": "70e33aba29983ecb34e15577938e58e5bd0c0cd9"
      },
      "cell_type": "code",
      "source": "y_test_pred",
      "execution_count": null,
      "outputs": []
    },
    {
      "metadata": {
        "trusted": true,
        "_uuid": "b7a34a27ec119d773bd2e0d7d1f343cb90defd0d"
      },
      "cell_type": "code",
      "source": "np.exp(y_test_pred).mean()",
      "execution_count": null,
      "outputs": []
    },
    {
      "metadata": {
        "trusted": true,
        "_uuid": "a28f4196b732f746cbd22cd04da9e054d879c6f5"
      },
      "cell_type": "code",
      "source": "y.mean()",
      "execution_count": null,
      "outputs": []
    },
    {
      "metadata": {
        "trusted": true,
        "_uuid": "d3d767fa3066b08eeb1999a6bc644180ff835aad"
      },
      "cell_type": "code",
      "source": "print(y_test_pred)",
      "execution_count": null,
      "outputs": []
    },
    {
      "metadata": {
        "trusted": true,
        "_uuid": "fa0205caa2852d50088f7cfdddfc0bf871d80127"
      },
      "cell_type": "code",
      "source": "\nhomes_test['SalePrice'] = y_test_pred[:,0]",
      "execution_count": null,
      "outputs": []
    },
    {
      "metadata": {
        "trusted": true,
        "_uuid": "c202a7ca9cbbfe69bff30910a0fe3efebd096fcd"
      },
      "cell_type": "code",
      "source": "homes_test['SalePrice'] = np.exp(homes_test['SalePrice'])\nhomes_test[['Id', 'SalePrice']]",
      "execution_count": null,
      "outputs": []
    },
    {
      "metadata": {
        "trusted": true,
        "_uuid": "af08c5f0b64ab3790b515bcfde2bd8abf246946b"
      },
      "cell_type": "code",
      "source": "homes_test['SalePrice'].describe()",
      "execution_count": null,
      "outputs": []
    },
    {
      "metadata": {
        "trusted": true,
        "_uuid": "d5df2a10cb7fb45409de699aa17407722e5f551b",
        "scrolled": true
      },
      "cell_type": "code",
      "source": "homes.SalePrice.describe()",
      "execution_count": null,
      "outputs": []
    },
    {
      "metadata": {
        "trusted": true,
        "_uuid": "20368ac6367f8fbb15f4b139bd657e2d0acaa2e8"
      },
      "cell_type": "code",
      "source": "print(os.listdir(\".\"))",
      "execution_count": null,
      "outputs": []
    },
    {
      "metadata": {
        "trusted": true,
        "_uuid": "9ef2ad7cadd55b5090e288ed01117d26c7193d58"
      },
      "cell_type": "code",
      "source": "",
      "execution_count": null,
      "outputs": []
    },
    {
      "metadata": {
        "trusted": true,
        "_uuid": "996dd9e1bd09840d457aace6702f9f3fbde9e3c5"
      },
      "cell_type": "code",
      "source": "from statsmodels.stats.outliers_influence import variance_inflation_factor    \n\ndef calculate_vif_(X, thresh=5.0):\n    variables = list(range(X.shape[1]))\n    dropped = True\n    while dropped:\n        dropped = False\n        vif = [variance_inflation_factor(X.iloc[:, variables].values, ix)\n               for ix in range(X.iloc[:, variables].shape[1])]\n\n        maxloc = vif.index(max(vif))\n        if max(vif) > thresh:\n            print('dropping \\'' + X.iloc[:, variables].columns[maxloc] +\n                  '\\' at index: ' + str(maxloc))\n            del variables[maxloc]\n            dropped = True\n\n    print('Remaining variables:')\n    print(X.columns[variables])\n    return X.iloc[:, variables]",
      "execution_count": null,
      "outputs": []
    },
    {
      "metadata": {
        "trusted": true,
        "_uuid": "a1bd10e7f60938b035019f106850797834ec94c1"
      },
      "cell_type": "code",
      "source": "#vif=calculate_vif_(homes_all.drop(['Id'],axis=1))",
      "execution_count": null,
      "outputs": []
    },
    {
      "metadata": {
        "trusted": true,
        "_uuid": "7fd9a6a1683d9748c01459a6517c03b1321504a6"
      },
      "cell_type": "code",
      "source": "homes_test[['Id', 'SalePrice']].to_csv('submission.csv', index = False)",
      "execution_count": null,
      "outputs": []
    },
    {
      "metadata": {
        "trusted": true,
        "_uuid": "ae7f697453e131a445ae6d57fa4e5edb1a5e861e"
      },
      "cell_type": "code",
      "source": "",
      "execution_count": null,
      "outputs": []
    }
  ],
  "metadata": {
    "kernelspec": {
      "display_name": "Python 3",
      "language": "python",
      "name": "python3"
    },
    "language_info": {
      "name": "python",
      "version": "3.6.6",
      "mimetype": "text/x-python",
      "codemirror_mode": {
        "name": "ipython",
        "version": 3
      },
      "pygments_lexer": "ipython3",
      "nbconvert_exporter": "python",
      "file_extension": ".py"
    }
  },
  "nbformat": 4,
  "nbformat_minor": 1
}